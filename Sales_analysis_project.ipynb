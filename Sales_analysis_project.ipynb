{
 "cells": [
  {
   "cell_type": "code",
   "execution_count": 1,
   "id": "c1f13fb7-e11f-4fb4-be51-16b277ebf730",
   "metadata": {},
   "outputs": [
    {
     "name": "stdout",
     "output_type": "stream",
     "text": [
      "Requirement already satisfied: pandas in f:\\new folder\\lib\\site-packages (2.2.3)\n",
      "Requirement already satisfied: numpy>=1.26.0 in f:\\new folder\\lib\\site-packages (from pandas) (2.1.3)\n",
      "Requirement already satisfied: python-dateutil>=2.8.2 in f:\\new folder\\lib\\site-packages (from pandas) (2.9.0.post0)\n",
      "Requirement already satisfied: pytz>=2020.1 in f:\\new folder\\lib\\site-packages (from pandas) (2024.1)\n",
      "Requirement already satisfied: tzdata>=2022.7 in f:\\new folder\\lib\\site-packages (from pandas) (2025.2)\n",
      "Requirement already satisfied: six>=1.5 in f:\\new folder\\lib\\site-packages (from python-dateutil>=2.8.2->pandas) (1.17.0)\n"
     ]
    }
   ],
   "source": [
    "!pip install pandas"
   ]
  },
  {
   "cell_type": "code",
   "execution_count": 2,
   "id": "2bf5f952-5b0d-4054-9661-304ce80f33fd",
   "metadata": {},
   "outputs": [],
   "source": [
    "import pandas as pd\n"
   ]
  },
  {
   "cell_type": "code",
   "execution_count": 3,
   "id": "00b2984b-f4a1-49ae-96f2-358da266cf03",
   "metadata": {},
   "outputs": [
    {
     "name": "stdout",
     "output_type": "stream",
     "text": [
      "Requirement already satisfied: sqlalchemy in f:\\new folder\\lib\\site-packages (2.0.39)\n",
      "Requirement already satisfied: greenlet!=0.4.17 in f:\\new folder\\lib\\site-packages (from sqlalchemy) (3.1.1)\n",
      "Requirement already satisfied: typing-extensions>=4.6.0 in f:\\new folder\\lib\\site-packages (from sqlalchemy) (4.12.2)\n"
     ]
    }
   ],
   "source": [
    "!pip install sqlalchemy"
   ]
  },
  {
   "cell_type": "code",
   "execution_count": 4,
   "id": "8426dca5-df76-4ca6-a9df-b517ace223d0",
   "metadata": {},
   "outputs": [
    {
     "name": "stdout",
     "output_type": "stream",
     "text": [
      "SQLAlchemy imported successfully.\n"
     ]
    }
   ],
   "source": [
    "import sqlalchemy\n",
    "print(\"SQLAlchemy imported successfully.\")"
   ]
  },
  {
   "cell_type": "code",
   "execution_count": 5,
   "id": "dd24cba7-391c-45aa-88b9-4675daead023",
   "metadata": {},
   "outputs": [
    {
     "name": "stdout",
     "output_type": "stream",
     "text": [
      "Requirement already satisfied: psycopg2-binary in f:\\new folder\\lib\\site-packages (2.9.11)\n"
     ]
    }
   ],
   "source": [
    "!pip install psycopg2-binary"
   ]
  },
  {
   "cell_type": "code",
   "execution_count": 6,
   "id": "9450e387-2c51-4211-ad36-25f0caf855d7",
   "metadata": {},
   "outputs": [
    {
     "name": "stdout",
     "output_type": "stream",
     "text": [
      "psycopg2 imported successfully.\n"
     ]
    }
   ],
   "source": [
    "import psycopg2\n",
    "print(\"psycopg2 imported successfully.\")"
   ]
  },
  {
   "cell_type": "code",
   "execution_count": 7,
   "id": "dd86465b-5d25-444c-8b70-430db920e4b4",
   "metadata": {},
   "outputs": [
    {
     "name": "stdout",
     "output_type": "stream",
     "text": [
      "Requirement already satisfied: matplotlib in f:\\new folder\\lib\\site-packages (3.10.0)\n",
      "Requirement already satisfied: contourpy>=1.0.1 in f:\\new folder\\lib\\site-packages (from matplotlib) (1.3.1)\n",
      "Requirement already satisfied: cycler>=0.10 in f:\\new folder\\lib\\site-packages (from matplotlib) (0.11.0)\n",
      "Requirement already satisfied: fonttools>=4.22.0 in f:\\new folder\\lib\\site-packages (from matplotlib) (4.55.3)\n",
      "Requirement already satisfied: kiwisolver>=1.3.1 in f:\\new folder\\lib\\site-packages (from matplotlib) (1.4.8)\n",
      "Requirement already satisfied: numpy>=1.23 in f:\\new folder\\lib\\site-packages (from matplotlib) (2.1.3)\n",
      "Requirement already satisfied: packaging>=20.0 in f:\\new folder\\lib\\site-packages (from matplotlib) (24.2)\n",
      "Requirement already satisfied: pillow>=8 in f:\\new folder\\lib\\site-packages (from matplotlib) (11.1.0)\n",
      "Requirement already satisfied: pyparsing>=2.3.1 in f:\\new folder\\lib\\site-packages (from matplotlib) (3.2.0)\n",
      "Requirement already satisfied: python-dateutil>=2.7 in f:\\new folder\\lib\\site-packages (from matplotlib) (2.9.0.post0)\n",
      "Requirement already satisfied: six>=1.5 in f:\\new folder\\lib\\site-packages (from python-dateutil>=2.7->matplotlib) (1.17.0)\n"
     ]
    }
   ],
   "source": [
    "!pip install matplotlib"
   ]
  },
  {
   "cell_type": "code",
   "execution_count": 8,
   "id": "cd5306b0-043d-4870-aaf2-16a6380e667a",
   "metadata": {},
   "outputs": [
    {
     "name": "stdout",
     "output_type": "stream",
     "text": [
      "matplotlib imported successfully.\n"
     ]
    }
   ],
   "source": [
    "import matplotlib\n",
    "print(\"matplotlib imported successfully.\")"
   ]
  },
  {
   "cell_type": "code",
   "execution_count": 9,
   "id": "a036f142-2bb5-48e9-a0f2-c7cc52949158",
   "metadata": {},
   "outputs": [
    {
     "name": "stdout",
     "output_type": "stream",
     "text": [
      "Requirement already satisfied: seaborn in f:\\new folder\\lib\\site-packages (0.13.2)\n",
      "Requirement already satisfied: numpy!=1.24.0,>=1.20 in f:\\new folder\\lib\\site-packages (from seaborn) (2.1.3)\n",
      "Requirement already satisfied: pandas>=1.2 in f:\\new folder\\lib\\site-packages (from seaborn) (2.2.3)\n",
      "Requirement already satisfied: matplotlib!=3.6.1,>=3.4 in f:\\new folder\\lib\\site-packages (from seaborn) (3.10.0)\n",
      "Requirement already satisfied: contourpy>=1.0.1 in f:\\new folder\\lib\\site-packages (from matplotlib!=3.6.1,>=3.4->seaborn) (1.3.1)\n",
      "Requirement already satisfied: cycler>=0.10 in f:\\new folder\\lib\\site-packages (from matplotlib!=3.6.1,>=3.4->seaborn) (0.11.0)\n",
      "Requirement already satisfied: fonttools>=4.22.0 in f:\\new folder\\lib\\site-packages (from matplotlib!=3.6.1,>=3.4->seaborn) (4.55.3)\n",
      "Requirement already satisfied: kiwisolver>=1.3.1 in f:\\new folder\\lib\\site-packages (from matplotlib!=3.6.1,>=3.4->seaborn) (1.4.8)\n",
      "Requirement already satisfied: packaging>=20.0 in f:\\new folder\\lib\\site-packages (from matplotlib!=3.6.1,>=3.4->seaborn) (24.2)\n",
      "Requirement already satisfied: pillow>=8 in f:\\new folder\\lib\\site-packages (from matplotlib!=3.6.1,>=3.4->seaborn) (11.1.0)\n",
      "Requirement already satisfied: pyparsing>=2.3.1 in f:\\new folder\\lib\\site-packages (from matplotlib!=3.6.1,>=3.4->seaborn) (3.2.0)\n",
      "Requirement already satisfied: python-dateutil>=2.7 in f:\\new folder\\lib\\site-packages (from matplotlib!=3.6.1,>=3.4->seaborn) (2.9.0.post0)\n",
      "Requirement already satisfied: pytz>=2020.1 in f:\\new folder\\lib\\site-packages (from pandas>=1.2->seaborn) (2024.1)\n",
      "Requirement already satisfied: tzdata>=2022.7 in f:\\new folder\\lib\\site-packages (from pandas>=1.2->seaborn) (2025.2)\n",
      "Requirement already satisfied: six>=1.5 in f:\\new folder\\lib\\site-packages (from python-dateutil>=2.7->matplotlib!=3.6.1,>=3.4->seaborn) (1.17.0)\n"
     ]
    }
   ],
   "source": [
    "!pip install seaborn"
   ]
  },
  {
   "cell_type": "code",
   "execution_count": 10,
   "id": "0a8b8215-b414-46ab-8dd4-11553906bab3",
   "metadata": {},
   "outputs": [
    {
     "name": "stdout",
     "output_type": "stream",
     "text": [
      "seaborn imported successfully.\n"
     ]
    }
   ],
   "source": [
    "import seaborn\n",
    "print(\"seaborn imported successfully.\")"
   ]
  },
  {
   "cell_type": "code",
   "execution_count": 11,
   "id": "18c6d1c4-5810-4c37-9f86-e721c8393c3a",
   "metadata": {},
   "outputs": [
    {
     "name": "stdout",
     "output_type": "stream",
     "text": [
      "Requirement already satisfied: statsmodels in f:\\new folder\\lib\\site-packages (0.14.4)\n",
      "Requirement already satisfied: numpy<3,>=1.22.3 in f:\\new folder\\lib\\site-packages (from statsmodels) (2.1.3)\n",
      "Requirement already satisfied: scipy!=1.9.2,>=1.8 in f:\\new folder\\lib\\site-packages (from statsmodels) (1.15.3)\n",
      "Requirement already satisfied: pandas!=2.1.0,>=1.4 in f:\\new folder\\lib\\site-packages (from statsmodels) (2.2.3)\n",
      "Requirement already satisfied: patsy>=0.5.6 in f:\\new folder\\lib\\site-packages (from statsmodels) (1.0.1)\n",
      "Requirement already satisfied: packaging>=21.3 in f:\\new folder\\lib\\site-packages (from statsmodels) (24.2)\n",
      "Requirement already satisfied: python-dateutil>=2.8.2 in f:\\new folder\\lib\\site-packages (from pandas!=2.1.0,>=1.4->statsmodels) (2.9.0.post0)\n",
      "Requirement already satisfied: pytz>=2020.1 in f:\\new folder\\lib\\site-packages (from pandas!=2.1.0,>=1.4->statsmodels) (2024.1)\n",
      "Requirement already satisfied: tzdata>=2022.7 in f:\\new folder\\lib\\site-packages (from pandas!=2.1.0,>=1.4->statsmodels) (2025.2)\n",
      "Requirement already satisfied: six>=1.5 in f:\\new folder\\lib\\site-packages (from python-dateutil>=2.8.2->pandas!=2.1.0,>=1.4->statsmodels) (1.17.0)\n"
     ]
    }
   ],
   "source": [
    "!pip install statsmodels"
   ]
  },
  {
   "cell_type": "code",
   "execution_count": 13,
   "id": "71bb5057-44e4-4c46-ac11-7bcdc731c033",
   "metadata": {},
   "outputs": [
    {
     "name": "stdout",
     "output_type": "stream",
     "text": [
      "statsmodels and SARIMAX imported successfully.\n"
     ]
    }
   ],
   "source": [
    "from statsmodels.tsa.statespace.sarimax import SARIMAX\n",
    "print(\"statsmodels and SARIMAX imported successfully.\")\n"
   ]
  },
  {
   "cell_type": "code",
   "execution_count": 38,
   "id": "cdc1121f-ef3d-4356-b373-36e092740bc2",
   "metadata": {},
   "outputs": [
    {
     "name": "stdout",
     "output_type": "stream",
     "text": [
      "All packages imported and configuration loaded.\n"
     ]
    }
   ],
   "source": [
    "import pandas as pd\n",
    "from sqlalchemy import create_engine\n",
    "import matplotlib.pyplot as plt\n",
    "import seaborn as sns\n",
    "from statsmodels.tsa.statespace.sarimax import SARIMAX\n",
    "import os\n",
    "import sys\n",
    "import warnings\n",
    "\n",
    "# Suppress warnings for cleaner output\n",
    "warnings.filterwarnings(\"ignore\")\n",
    "\n",
    "# Set matplotlib to display plots inline in the notebook\n",
    "%matplotlib inline\n",
    "\n",
    "# --- Database Configuration ---\n",
    "db_user = 'postgres'\n",
    "db_pass = 'anzirsql' # Your password\n",
    "db_host = 'localhost'\n",
    "db_port = '5432'\n",
    "db_name = 'sales_analysis'\n",
    "\n",
    "# --- File Paths ---\n",
    "# Using raw strings (r\"...\") for your Windows paths\n",
    "store_csv_path = r\"F:\\NSU\\Projects Datasets\\sales project\\rossmann-store-sales\\store.csv\"\n",
    "train_csv_path = r\"F:\\NSU\\Projects Datasets\\sales project\\rossmann-store-sales\\train.csv\"\n",
    "\n",
    "# Create the connection string\n",
    "conn_string = f'postgresql://{db_user}:{db_pass}@{db_host}:{db_port}/{db_name}'\n",
    "\n",
    "print(\"All packages imported and configuration loaded.\")"
   ]
  },
  {
   "cell_type": "code",
   "execution_count": 16,
   "id": "40e4d2a0-b5ee-4653-9feb-a3d7e16abaa9",
   "metadata": {},
   "outputs": [
    {
     "name": "stdout",
     "output_type": "stream",
     "text": [
      "All CSV files found successfully.\n",
      "Connection to PostgreSQL database 'sales_analysis' was successful.\n"
     ]
    }
   ],
   "source": [
    "# Check if files exist\n",
    "if not os.path.exists(store_csv_path):\n",
    "    print(f\"Error: '{store_csv_path}' not found.\")\n",
    "elif not os.path.exists(train_csv_path):\n",
    "    print(f\"Error: '{train_csv_path}' not found.\")\n",
    "else:\n",
    "    print(\"All CSV files found successfully.\")\n",
    "\n",
    "# Create the database engine and test the connection\n",
    "try:\n",
    "    engine = create_engine(conn_string)\n",
    "    with engine.connect() as conn:\n",
    "        print(\"Connection to PostgreSQL database 'sales_analysis' was successful.\")\n",
    "except Exception as e:\n",
    "    print(f\"Error connecting to database: {e}\")\n",
    "    print(\"--- PLEASE CHECK YOUR PASSWORD AND THAT POSTGRESQL IS RUNNING ---\")"
   ]
  },
  {
   "cell_type": "code",
   "execution_count": 18,
   "id": "909b8cdb-7b53-43af-8d60-14ae1ae6384b",
   "metadata": {},
   "outputs": [
    {
     "name": "stdout",
     "output_type": "stream",
     "text": [
      "`text` function imported successfully.\n"
     ]
    }
   ],
   "source": [
    "from sqlalchemy import text\n",
    "print(\"`text` function imported successfully.\")"
   ]
  },
  {
   "cell_type": "code",
   "execution_count": 20,
   "id": "6e9c38e4-e88a-4f82-92e7-c31b32b26297",
   "metadata": {},
   "outputs": [
    {
     "name": "stdout",
     "output_type": "stream",
     "text": [
      "--- Starting Data Loading (Corrected for Case-Sensitivity) ---\n",
      "Loading store.csv...\n",
      "Successfully loaded store.csv into 'stores' table.\n"
     ]
    }
   ],
   "source": [
    "print(\"--- Starting Data Loading (Corrected for Case-Sensitivity) ---\")\n",
    "\n",
    "# --- Load store.csv ---\n",
    "try:\n",
    "    with engine.connect() as conn:\n",
    "        # Check if the table is empty first\n",
    "        result = conn.execute(text(\"SELECT COUNT(*) FROM stores\")).scalar()\n",
    "    \n",
    "    if result == 0:\n",
    "        print(\"Loading store.csv...\")\n",
    "        df_store = pd.read_csv(store_csv_path)\n",
    "        \n",
    "        # --- THIS IS THE FIX ---\n",
    "        # Convert all column names to lowercase to match the database\n",
    "        df_store.columns = df_store.columns.str.lower()\n",
    "        # --- End of FIX ---\n",
    "\n",
    "        df_store.to_sql('stores', engine, if_exists='append', index=False)\n",
    "        print(\"Successfully loaded store.csv into 'stores' table.\")\n",
    "    else:\n",
    "        print(f\"'stores' table already contains {result} rows. Skipping store.csv.\")\n",
    "except Exception as e:\n",
    "    print(f\"Error loading store.csv: {e}\")"
   ]
  },
  {
   "cell_type": "code",
   "execution_count": 37,
   "id": "a9a0c20f-7d61-4942-8b76-8f0ea761124f",
   "metadata": {},
   "outputs": [
    {
     "name": "stdout",
     "output_type": "stream",
     "text": [
      "'sales' table already contains 1017209 rows. Skipping train.csv.\n"
     ]
    }
   ],
   "source": [
    "# --- Load train.csv (in chunks) ---\n",
    "try:\n",
    "    with engine.connect() as conn:\n",
    "        # Check if the table is empty first\n",
    "        result = conn.execute(text(\"SELECT COUNT(*) FROM sales\")).scalar()\n",
    "    \n",
    "    if result == 0:\n",
    "        print(\"Loading train.csv in chunks (this may take 5-10 minutes)...\")\n",
    "        \n",
    "        # Read the file in chunks of 100,000 rows\n",
    "        chunk_iter = pd.read_csv(train_csv_path, chunksize=100000, low_memory=False)\n",
    "        \n",
    "        for i, chunk in enumerate(chunk_iter):\n",
    "            # --- THIS IS THE FIX ---\n",
    "            # Convert all column names to lowercase to match the database\n",
    "            chunk.columns = chunk.columns.str.lower()\n",
    "            # --- End of FIX ---\n",
    "\n",
    "            chunk.to_sql('sales', engine, if_exists='append', index=False)\n",
    "            print(f\"Loaded chunk {i+1} into 'sales' table.\")\n",
    "        \n",
    "        print(\"Successfully loaded all chunks of train.csv.\")\n",
    "    else:\n",
    "        print(f\"'sales' table already contains {result} rows. Skipping train.csv.\")\n",
    "except Exception as e:\n",
    "    print(f\"Error loading train.csv: {e}\")"
   ]
  },
  {
   "cell_type": "code",
   "execution_count": 35,
   "id": "3019711e-d7b8-40a4-b976-90e44f3b587b",
   "metadata": {},
   "outputs": [
    {
     "name": "stdout",
     "output_type": "stream",
     "text": [
      "Loading data from PostgreSQL into pandas DataFrame\n",
      "Query joins 'sales' and 'stores'\n",
      "Data loaded successfully. Total rows: 1017209\n",
      "Displaying first 5 rows of the joined data:\n"
     ]
    },
    {
     "data": {
      "text/html": [
       "<div>\n",
       "<style scoped>\n",
       "    .dataframe tbody tr th:only-of-type {\n",
       "        vertical-align: middle;\n",
       "    }\n",
       "\n",
       "    .dataframe tbody tr th {\n",
       "        vertical-align: top;\n",
       "    }\n",
       "\n",
       "    .dataframe thead th {\n",
       "        text-align: right;\n",
       "    }\n",
       "</style>\n",
       "<table border=\"1\" class=\"dataframe\">\n",
       "  <thead>\n",
       "    <tr style=\"text-align: right;\">\n",
       "      <th></th>\n",
       "      <th>store</th>\n",
       "      <th>dayofweek</th>\n",
       "      <th>date</th>\n",
       "      <th>sales</th>\n",
       "      <th>customers</th>\n",
       "      <th>open</th>\n",
       "      <th>promo</th>\n",
       "      <th>stateholiday</th>\n",
       "      <th>schoolholiday</th>\n",
       "      <th>store</th>\n",
       "      <th>storetype</th>\n",
       "      <th>assortment</th>\n",
       "      <th>competitiondistance</th>\n",
       "      <th>competitionopensincemonth</th>\n",
       "      <th>competitionopensinceyear</th>\n",
       "      <th>promo2</th>\n",
       "      <th>promo2sinceweek</th>\n",
       "      <th>promo2sinceyear</th>\n",
       "      <th>promointerval</th>\n",
       "    </tr>\n",
       "  </thead>\n",
       "  <tbody>\n",
       "    <tr>\n",
       "      <th>0</th>\n",
       "      <td>1</td>\n",
       "      <td>5</td>\n",
       "      <td>2015-07-31</td>\n",
       "      <td>5263</td>\n",
       "      <td>555</td>\n",
       "      <td>1</td>\n",
       "      <td>1</td>\n",
       "      <td>0</td>\n",
       "      <td>1</td>\n",
       "      <td>1</td>\n",
       "      <td>c</td>\n",
       "      <td>a</td>\n",
       "      <td>1270.0</td>\n",
       "      <td>9.0</td>\n",
       "      <td>2008.0</td>\n",
       "      <td>0</td>\n",
       "      <td>NaN</td>\n",
       "      <td>NaN</td>\n",
       "      <td>None</td>\n",
       "    </tr>\n",
       "    <tr>\n",
       "      <th>1</th>\n",
       "      <td>2</td>\n",
       "      <td>5</td>\n",
       "      <td>2015-07-31</td>\n",
       "      <td>6064</td>\n",
       "      <td>625</td>\n",
       "      <td>1</td>\n",
       "      <td>1</td>\n",
       "      <td>0</td>\n",
       "      <td>1</td>\n",
       "      <td>2</td>\n",
       "      <td>a</td>\n",
       "      <td>a</td>\n",
       "      <td>570.0</td>\n",
       "      <td>11.0</td>\n",
       "      <td>2007.0</td>\n",
       "      <td>1</td>\n",
       "      <td>13.0</td>\n",
       "      <td>2010.0</td>\n",
       "      <td>Jan,Apr,Jul,Oct</td>\n",
       "    </tr>\n",
       "    <tr>\n",
       "      <th>2</th>\n",
       "      <td>3</td>\n",
       "      <td>5</td>\n",
       "      <td>2015-07-31</td>\n",
       "      <td>8314</td>\n",
       "      <td>821</td>\n",
       "      <td>1</td>\n",
       "      <td>1</td>\n",
       "      <td>0</td>\n",
       "      <td>1</td>\n",
       "      <td>3</td>\n",
       "      <td>a</td>\n",
       "      <td>a</td>\n",
       "      <td>14130.0</td>\n",
       "      <td>12.0</td>\n",
       "      <td>2006.0</td>\n",
       "      <td>1</td>\n",
       "      <td>14.0</td>\n",
       "      <td>2011.0</td>\n",
       "      <td>Jan,Apr,Jul,Oct</td>\n",
       "    </tr>\n",
       "    <tr>\n",
       "      <th>3</th>\n",
       "      <td>4</td>\n",
       "      <td>5</td>\n",
       "      <td>2015-07-31</td>\n",
       "      <td>13995</td>\n",
       "      <td>1498</td>\n",
       "      <td>1</td>\n",
       "      <td>1</td>\n",
       "      <td>0</td>\n",
       "      <td>1</td>\n",
       "      <td>4</td>\n",
       "      <td>c</td>\n",
       "      <td>c</td>\n",
       "      <td>620.0</td>\n",
       "      <td>9.0</td>\n",
       "      <td>2009.0</td>\n",
       "      <td>0</td>\n",
       "      <td>NaN</td>\n",
       "      <td>NaN</td>\n",
       "      <td>None</td>\n",
       "    </tr>\n",
       "    <tr>\n",
       "      <th>4</th>\n",
       "      <td>5</td>\n",
       "      <td>5</td>\n",
       "      <td>2015-07-31</td>\n",
       "      <td>4822</td>\n",
       "      <td>559</td>\n",
       "      <td>1</td>\n",
       "      <td>1</td>\n",
       "      <td>0</td>\n",
       "      <td>1</td>\n",
       "      <td>5</td>\n",
       "      <td>a</td>\n",
       "      <td>a</td>\n",
       "      <td>29910.0</td>\n",
       "      <td>4.0</td>\n",
       "      <td>2015.0</td>\n",
       "      <td>0</td>\n",
       "      <td>NaN</td>\n",
       "      <td>NaN</td>\n",
       "      <td>None</td>\n",
       "    </tr>\n",
       "  </tbody>\n",
       "</table>\n",
       "</div>"
      ],
      "text/plain": [
       "   store  dayofweek        date  sales  customers  open  promo stateholiday  \\\n",
       "0      1          5  2015-07-31   5263        555     1      1            0   \n",
       "1      2          5  2015-07-31   6064        625     1      1            0   \n",
       "2      3          5  2015-07-31   8314        821     1      1            0   \n",
       "3      4          5  2015-07-31  13995       1498     1      1            0   \n",
       "4      5          5  2015-07-31   4822        559     1      1            0   \n",
       "\n",
       "   schoolholiday  store storetype assortment  competitiondistance  \\\n",
       "0              1      1         c          a               1270.0   \n",
       "1              1      2         a          a                570.0   \n",
       "2              1      3         a          a              14130.0   \n",
       "3              1      4         c          c                620.0   \n",
       "4              1      5         a          a              29910.0   \n",
       "\n",
       "   competitionopensincemonth  competitionopensinceyear  promo2  \\\n",
       "0                        9.0                    2008.0       0   \n",
       "1                       11.0                    2007.0       1   \n",
       "2                       12.0                    2006.0       1   \n",
       "3                        9.0                    2009.0       0   \n",
       "4                        4.0                    2015.0       0   \n",
       "\n",
       "   promo2sinceweek  promo2sinceyear    promointerval  \n",
       "0              NaN              NaN             None  \n",
       "1             13.0           2010.0  Jan,Apr,Jul,Oct  \n",
       "2             14.0           2011.0  Jan,Apr,Jul,Oct  \n",
       "3              NaN              NaN             None  \n",
       "4              NaN              NaN             None  "
      ]
     },
     "metadata": {},
     "output_type": "display_data"
    }
   ],
   "source": [
    "print(\"Loading data from PostgreSQL into pandas DataFrame\")\n",
    "print(\"Query joins 'sales' and 'stores'\")\n",
    "\n",
    "# SQL query to join the two tables\n",
    "# This works because all columns are now lowercase\n",
    "sql_query = \"\"\"\n",
    "SELECT * FROM sales \n",
    "JOIN stores ON sales.store = stores.store;\n",
    "\"\"\"\n",
    "\n",
    "try:\n",
    "    df = pd.read_sql_query(sql_query, engine)\n",
    "    print(f\"Data loaded successfully. Total rows: {len(df)}\")\n",
    "    \n",
    "    if df.empty:\n",
    "        print(\"Error: The DataFrame is empty. No data was loaded.\")\n",
    "    else:\n",
    "        # display() is a jupyter-specific function to pretty-print the table\n",
    "        print(\"Displaying first 5 rows of the joined data:\")\n",
    "        display(df.head())\n",
    "        \n",
    "except Exception as e:\n",
    "    print(f\"Error loading data from database: {e}\")"
   ]
  },
  {
   "cell_type": "code",
   "execution_count": 34,
   "id": "ba7e21a2-239d-4f82-8aba-44ab38dc40c4",
   "metadata": {},
   "outputs": [
    {
     "name": "stdout",
     "output_type": "stream",
     "text": [
      "Starting data cleaning and feature engineering\n",
      "Data cleaning and feature engineering complete.\n",
      "Data head with new features:\n"
     ]
    },
    {
     "data": {
      "text/html": [
       "<div>\n",
       "<style scoped>\n",
       "    .dataframe tbody tr th:only-of-type {\n",
       "        vertical-align: middle;\n",
       "    }\n",
       "\n",
       "    .dataframe tbody tr th {\n",
       "        vertical-align: top;\n",
       "    }\n",
       "\n",
       "    .dataframe thead th {\n",
       "        text-align: right;\n",
       "    }\n",
       "</style>\n",
       "<table border=\"1\" class=\"dataframe\">\n",
       "  <thead>\n",
       "    <tr style=\"text-align: right;\">\n",
       "      <th></th>\n",
       "      <th>store</th>\n",
       "      <th>dayofweek</th>\n",
       "      <th>date</th>\n",
       "      <th>sales</th>\n",
       "      <th>customers</th>\n",
       "      <th>open</th>\n",
       "      <th>promo</th>\n",
       "      <th>stateholiday</th>\n",
       "      <th>schoolholiday</th>\n",
       "      <th>store</th>\n",
       "      <th>...</th>\n",
       "      <th>competitionopensincemonth</th>\n",
       "      <th>competitionopensinceyear</th>\n",
       "      <th>promo2</th>\n",
       "      <th>promo2sinceweek</th>\n",
       "      <th>promo2sinceyear</th>\n",
       "      <th>promointerval</th>\n",
       "      <th>year</th>\n",
       "      <th>month</th>\n",
       "      <th>weekofyear</th>\n",
       "      <th>salespercustomer</th>\n",
       "    </tr>\n",
       "  </thead>\n",
       "  <tbody>\n",
       "    <tr>\n",
       "      <th>0</th>\n",
       "      <td>1</td>\n",
       "      <td>5</td>\n",
       "      <td>2015-07-31</td>\n",
       "      <td>5263</td>\n",
       "      <td>555</td>\n",
       "      <td>1</td>\n",
       "      <td>1</td>\n",
       "      <td>0</td>\n",
       "      <td>1</td>\n",
       "      <td>1</td>\n",
       "      <td>...</td>\n",
       "      <td>9.0</td>\n",
       "      <td>2008.0</td>\n",
       "      <td>0</td>\n",
       "      <td>0.0</td>\n",
       "      <td>0.0</td>\n",
       "      <td>0</td>\n",
       "      <td>2015</td>\n",
       "      <td>7</td>\n",
       "      <td>31</td>\n",
       "      <td>9.482883</td>\n",
       "    </tr>\n",
       "    <tr>\n",
       "      <th>1</th>\n",
       "      <td>2</td>\n",
       "      <td>5</td>\n",
       "      <td>2015-07-31</td>\n",
       "      <td>6064</td>\n",
       "      <td>625</td>\n",
       "      <td>1</td>\n",
       "      <td>1</td>\n",
       "      <td>0</td>\n",
       "      <td>1</td>\n",
       "      <td>2</td>\n",
       "      <td>...</td>\n",
       "      <td>11.0</td>\n",
       "      <td>2007.0</td>\n",
       "      <td>1</td>\n",
       "      <td>13.0</td>\n",
       "      <td>2010.0</td>\n",
       "      <td>Jan,Apr,Jul,Oct</td>\n",
       "      <td>2015</td>\n",
       "      <td>7</td>\n",
       "      <td>31</td>\n",
       "      <td>9.702400</td>\n",
       "    </tr>\n",
       "    <tr>\n",
       "      <th>2</th>\n",
       "      <td>3</td>\n",
       "      <td>5</td>\n",
       "      <td>2015-07-31</td>\n",
       "      <td>8314</td>\n",
       "      <td>821</td>\n",
       "      <td>1</td>\n",
       "      <td>1</td>\n",
       "      <td>0</td>\n",
       "      <td>1</td>\n",
       "      <td>3</td>\n",
       "      <td>...</td>\n",
       "      <td>12.0</td>\n",
       "      <td>2006.0</td>\n",
       "      <td>1</td>\n",
       "      <td>14.0</td>\n",
       "      <td>2011.0</td>\n",
       "      <td>Jan,Apr,Jul,Oct</td>\n",
       "      <td>2015</td>\n",
       "      <td>7</td>\n",
       "      <td>31</td>\n",
       "      <td>10.126675</td>\n",
       "    </tr>\n",
       "    <tr>\n",
       "      <th>3</th>\n",
       "      <td>4</td>\n",
       "      <td>5</td>\n",
       "      <td>2015-07-31</td>\n",
       "      <td>13995</td>\n",
       "      <td>1498</td>\n",
       "      <td>1</td>\n",
       "      <td>1</td>\n",
       "      <td>0</td>\n",
       "      <td>1</td>\n",
       "      <td>4</td>\n",
       "      <td>...</td>\n",
       "      <td>9.0</td>\n",
       "      <td>2009.0</td>\n",
       "      <td>0</td>\n",
       "      <td>0.0</td>\n",
       "      <td>0.0</td>\n",
       "      <td>0</td>\n",
       "      <td>2015</td>\n",
       "      <td>7</td>\n",
       "      <td>31</td>\n",
       "      <td>9.342457</td>\n",
       "    </tr>\n",
       "    <tr>\n",
       "      <th>4</th>\n",
       "      <td>5</td>\n",
       "      <td>5</td>\n",
       "      <td>2015-07-31</td>\n",
       "      <td>4822</td>\n",
       "      <td>559</td>\n",
       "      <td>1</td>\n",
       "      <td>1</td>\n",
       "      <td>0</td>\n",
       "      <td>1</td>\n",
       "      <td>5</td>\n",
       "      <td>...</td>\n",
       "      <td>4.0</td>\n",
       "      <td>2015.0</td>\n",
       "      <td>0</td>\n",
       "      <td>0.0</td>\n",
       "      <td>0.0</td>\n",
       "      <td>0</td>\n",
       "      <td>2015</td>\n",
       "      <td>7</td>\n",
       "      <td>31</td>\n",
       "      <td>8.626118</td>\n",
       "    </tr>\n",
       "  </tbody>\n",
       "</table>\n",
       "<p>5 rows × 23 columns</p>\n",
       "</div>"
      ],
      "text/plain": [
       "   store  dayofweek       date  sales  customers  open  promo stateholiday  \\\n",
       "0      1          5 2015-07-31   5263        555     1      1            0   \n",
       "1      2          5 2015-07-31   6064        625     1      1            0   \n",
       "2      3          5 2015-07-31   8314        821     1      1            0   \n",
       "3      4          5 2015-07-31  13995       1498     1      1            0   \n",
       "4      5          5 2015-07-31   4822        559     1      1            0   \n",
       "\n",
       "   schoolholiday  store  ... competitionopensincemonth  \\\n",
       "0              1      1  ...                       9.0   \n",
       "1              1      2  ...                      11.0   \n",
       "2              1      3  ...                      12.0   \n",
       "3              1      4  ...                       9.0   \n",
       "4              1      5  ...                       4.0   \n",
       "\n",
       "  competitionopensinceyear  promo2  promo2sinceweek  promo2sinceyear  \\\n",
       "0                   2008.0       0              0.0              0.0   \n",
       "1                   2007.0       1             13.0           2010.0   \n",
       "2                   2006.0       1             14.0           2011.0   \n",
       "3                   2009.0       0              0.0              0.0   \n",
       "4                   2015.0       0              0.0              0.0   \n",
       "\n",
       "     promointerval  year  month weekofyear  salespercustomer  \n",
       "0                0  2015      7         31          9.482883  \n",
       "1  Jan,Apr,Jul,Oct  2015      7         31          9.702400  \n",
       "2  Jan,Apr,Jul,Oct  2015      7         31         10.126675  \n",
       "3                0  2015      7         31          9.342457  \n",
       "4                0  2015      7         31          8.626118  \n",
       "\n",
       "[5 rows x 23 columns]"
      ]
     },
     "metadata": {},
     "output_type": "display_data"
    }
   ],
   "source": [
    "print(\"Starting data cleaning and feature engineering\")\n",
    "\n",
    "# Convert date column to datetime objects\n",
    "df['date'] = pd.to_datetime(df['date'])\n",
    "\n",
    "# Fill missing CompetitionDistance with the median\n",
    "median_comp_dist = df['competitiondistance'].median()\n",
    "df['competitiondistance'].fillna(median_comp_dist, inplace=True)\n",
    "\n",
    "# Fill other NaNs with 0 (for promo intervals, etc.)\n",
    "df.fillna(0, inplace=True)\n",
    "\n",
    "# Feature Engineering: Create new time-based features\n",
    "df['year'] = df['date'].dt.year\n",
    "df['month'] = df['date'].dt.month\n",
    "df['weekofyear'] = df['date'].dt.isocalendar().week\n",
    "\n",
    "# Feature Engineering: Calculate Sales per Customer\n",
    "df['salespercustomer'] = 0\n",
    "# Use .loc to avoid a common warning\n",
    "df.loc[df['customers'] > 0, 'salespercustomer'] = df['sales'] / df['customers']\n",
    "\n",
    "print(\"Data cleaning and feature engineering complete.\")\n",
    "print(\"Data head with new features:\")\n",
    "display(df.head())"
   ]
  },
  {
   "cell_type": "code",
   "execution_count": 25,
   "id": "b1d7ff78-125e-4c8e-8b1f-f9f04cdaadd1",
   "metadata": {},
   "outputs": [
    {
     "name": "stdout",
     "output_type": "stream",
     "text": [
      "Generating Plot 1: Total Monthly Sales Over Time\n"
     ]
    },
    {
     "data": {
      "image/png": "[encoded data removed]",
      "text/plain": [
       "<Figure size 1500x600 with 1 Axes>"
      ]
     },
     "metadata": {},
     "output_type": "display_data"
    }
   ],
   "source": [
    "print(\"Generating Plot 1: Total Monthly Sales Over Time\")\n",
    "sns.set(style=\"darkgrid\") # Sets a nice-looking grid style for the plot\n",
    "\n",
    "# Resample to monthly sales by summing up all sales for each month\n",
    "df_monthly_sales = df.set_index('date')['sales'].resample('M').sum()\n",
    "\n",
    "# Plot\n",
    "plt.figure(figsize=(15, 6)) # Make the plot wide\n",
    "plt.title(\"Total Monthly Sales Over Time\")\n",
    "df_monthly_sales.plot()\n",
    "plt.xlabel(\"Date\")\n",
    "plt.ylabel(\"Total Sales\")\n",
    "plt.show() # This command displays the plot in your notebook"
   ]
  },
  {
   "cell_type": "code",
   "execution_count": 27,
   "id": "4fd424ad-b404-4fff-bc28-21a56ef4caca",
   "metadata": {},
   "outputs": [
    {
     "name": "stdout",
     "output_type": "stream",
     "text": [
      "Generating Plot 2: Average Sales by Day of Week\n"
     ]
    },
    {
     "data": {
      "image/png": "[encoded data removed]",
      "text/plain": [
       "<Figure size 1000x600 with 1 Axes>"
      ]
     },
     "metadata": {},
     "output_type": "display_data"
    }
   ],
   "source": [
    "print(\"Generating Plot 2: Average Sales by Day of Week\")\n",
    "\n",
    "plt.figure(figsize=(10, 6)) # Set the figure size\n",
    "# Create a bar plot using seaborn\n",
    "sns.barplot(data=df, x='dayofweek', y='sales')\n",
    "plt.title(\"Average Sales by Day of Week\")\n",
    "plt.xlabel(\"Day of Week (1=Monday, 7=Sunday)\")\n",
    "plt.ylabel(\"Average Sales\")\n",
    "plt.show()"
   ]
  },
  {
   "cell_type": "code",
   "execution_count": 28,
   "id": "43760f1a-f7ee-4985-af95-ad370150c9e0",
   "metadata": {},
   "outputs": [
    {
     "name": "stdout",
     "output_type": "stream",
     "text": [
      "Preparing time series data for forecasting...\n",
      "Time series data prepared (resampled to weekly).\n",
      "Displaying the last 5 weeks of data to be forecasted:\n"
     ]
    },
    {
     "data": {
      "text/plain": [
       "date\n",
       "2015-07-05    55690481\n",
       "2015-07-12    41391282\n",
       "2015-07-19    52008419\n",
       "2015-07-26    39402115\n",
       "2015-08-02    47230923\n",
       "Freq: W-SUN, Name: sales, dtype: int64"
      ]
     },
     "metadata": {},
     "output_type": "display_data"
    }
   ],
   "source": [
    "print(\"Preparing time series data for forecasting...\")\n",
    "\n",
    "# 1. Filter for days when stores were open and had sales\n",
    "df_ts = df[(df['open'] == 1) & (df['sales'] > 0)]\n",
    "\n",
    "# 2. Group all sales by date to get one total sales number per day\n",
    "df_daily = df_ts.groupby('date')['sales'].sum()\n",
    "\n",
    "# 3. Resample to weekly sums. 'W' stands for 'Weekly'.\n",
    "# This adds up all sales for each week, giving us a smoother trend.\n",
    "df_weekly = df_daily.resample('W').sum()\n",
    "\n",
    "print(\"Time series data prepared (resampled to weekly).\")\n",
    "print(\"Displaying the last 5 weeks of data to be forecasted:\")\n",
    "display(df_weekly.tail())"
   ]
  },
  {
   "cell_type": "code",
   "execution_count": 32,
   "id": "665bfc9a-ffd1-43ff-a3c2-78b06252c81f",
   "metadata": {},
   "outputs": [
    {
     "name": "stdout",
     "output_type": "stream",
     "text": [
      "Training SARIMA model\n",
      "Model training complete.\n"
     ]
    }
   ],
   "source": [
    "print(\"Training SARIMA model\")\n",
    "\n",
    "try:\n",
    "    # We use a seasonal order of 52 because there are 52 weeks in a year\n",
    "    # (p,d,q) = (1,1,1) is a common starting point for the non-seasonal part\n",
    "    # (P,D,Q,s) = (1,1,1,52) is for the seasonal part\n",
    "    model = SARIMAX(df_weekly, \n",
    "                    order=(1, 1, 1), \n",
    "                    seasonal_order=(1, 1, 1, 52),\n",
    "                    enforce_stationarity=False,\n",
    "                    enforce_invertibility=False)\n",
    "    \n",
    "    # .fit() is the command that starts the training\n",
    "    results = model.fit(disp=False) # disp=False hides a lot of log messages\n",
    "    \n",
    "    print(\"Model training complete.\")\n",
    "    \n",
    "    # Optional: uncomment the line below if you want to see the model's statistical summary\n",
    "    # print(results.summary())\n",
    "    \n",
    "except Exception as e:\n",
    "    print(f\"Error training SARIMA model: {e}\")"
   ]
  },
  {
   "cell_type": "code",
   "execution_count": 31,
   "id": "cea736f8-7f8b-40c1-b6dd-2e90a1a028cc",
   "metadata": {},
   "outputs": [
    {
     "name": "stdout",
     "output_type": "stream",
     "text": [
      "Generating 52-week forecast...\n",
      "Forecast generated. Displaying first 5 predicted weeks:\n"
     ]
    },
    {
     "data": {
      "text/html": [
       "<div>\n",
       "<style scoped>\n",
       "    .dataframe tbody tr th:only-of-type {\n",
       "        vertical-align: middle;\n",
       "    }\n",
       "\n",
       "    .dataframe tbody tr th {\n",
       "        vertical-align: top;\n",
       "    }\n",
       "\n",
       "    .dataframe thead th {\n",
       "        text-align: right;\n",
       "    }\n",
       "</style>\n",
       "<table border=\"1\" class=\"dataframe\">\n",
       "  <thead>\n",
       "    <tr style=\"text-align: right;\">\n",
       "      <th></th>\n",
       "      <th>forecasted_sales</th>\n",
       "    </tr>\n",
       "  </thead>\n",
       "  <tbody>\n",
       "    <tr>\n",
       "      <th>2015-08-09</th>\n",
       "      <td>4.810581e+07</td>\n",
       "    </tr>\n",
       "    <tr>\n",
       "      <th>2015-08-16</th>\n",
       "      <td>4.042336e+07</td>\n",
       "    </tr>\n",
       "    <tr>\n",
       "      <th>2015-08-23</th>\n",
       "      <td>4.791214e+07</td>\n",
       "    </tr>\n",
       "    <tr>\n",
       "      <th>2015-08-30</th>\n",
       "      <td>4.161004e+07</td>\n",
       "    </tr>\n",
       "    <tr>\n",
       "      <th>2015-09-06</th>\n",
       "      <td>4.845598e+07</td>\n",
       "    </tr>\n",
       "  </tbody>\n",
       "</table>\n",
       "</div>"
      ],
      "text/plain": [
       "            forecasted_sales\n",
       "2015-08-09      4.810581e+07\n",
       "2015-08-16      4.042336e+07\n",
       "2015-08-23      4.791214e+07\n",
       "2015-08-30      4.161004e+07\n",
       "2015-09-06      4.845598e+07"
      ]
     },
     "metadata": {},
     "output_type": "display_data"
    },
    {
     "name": "stdout",
     "output_type": "stream",
     "text": [
      "\n",
      "Saving forecast to PostgreSQL table 'sales_forecast'...\n",
      "Forecast successfully saved to 'sales_forecast' table.\n"
     ]
    }
   ],
   "source": [
    "print(\"Generating 52-week forecast...\")\n",
    "forecast_steps = 52\n",
    "forecast_obj = results.get_forecast(steps=forecast_steps)\n",
    "\n",
    "# Get the predicted sales and put them in a DataFrame\n",
    "# .predicted_mean is the most likely forecast value\n",
    "forecast_df = forecast_obj.predicted_mean.to_frame(name='forecasted_sales')\n",
    "\n",
    "print(\"Forecast generated. Displaying first 5 predicted weeks:\")\n",
    "display(forecast_df.head())\n",
    "\n",
    "print(\"\\nSaving forecast to PostgreSQL table 'sales_forecast'...\")\n",
    "try:\n",
    "    # Save to SQL. 'if_exists='replace'' will create a new table\n",
    "    # or overwrite it if it already exists.\n",
    "    # 'index=True' saves the dates (which are the index) as a new column.\n",
    "    forecast_df.to_sql('sales_forecast', engine, if_exists='replace', index=True)\n",
    "    print(\"Forecast successfully saved to 'sales_forecast' table.\")\n",
    "except Exception as e:\n",
    "    print(f\"Error saving forecast to database: {e}\")"
   ]
  },
  {
   "cell_type": "code",
   "execution_count": null,
   "id": "2050644b-9130-4640-9a61-ff4806e825e8",
   "metadata": {},
   "outputs": [],
   "source": []
  }
 ],
 "metadata": {
  "kernelspec": {
   "display_name": "Python [conda env:base] *",
   "language": "python",
   "name": "conda-base-py"
  },
  "language_info": {
   "codemirror_mode": {
    "name": "ipython",
    "version": 3
   },
   "file_extension": ".py",
   "mimetype": "text/x-python",
   "name": "python",
   "nbconvert_exporter": "python",
   "pygments_lexer": "ipython3",
   "version": "3.13.5"
  }
 },
 "nbformat": 4,
 "nbformat_minor": 5
}
